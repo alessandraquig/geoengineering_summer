{
 "cells": [
  {
   "cell_type": "code",
   "execution_count": 1,
   "id": "cd6ced70-38d3-4397-94a1-50d7a755f7f3",
   "metadata": {},
   "outputs": [],
   "source": [
    "import matplotlib.pyplot as plt\n",
    "import numpy as np\n",
    "import xarray as xr\n",
    "import os\n",
    "import matplotlib.pyplot as plt\n",
    "import cartopy.crs as ccrs\n",
    "import cartopy.feature as cfeature\n",
    "import pandas as pd\n",
    "import csv\n",
    "\n",
    "from nc_processing import *\n",
    "from analysis import * \n",
    "\n",
    "%matplotlib inline"
   ]
  },
  {
   "cell_type": "code",
   "execution_count": 2,
   "id": "c68bc82e-36d8-4b65-9289-5e247d065ed0",
   "metadata": {},
   "outputs": [],
   "source": [
    "def define_parameters(var):\n",
    "    \n",
    "    var_table = pd.read_csv('CMIP6_variables.csv', index_col = 'var') #Reads csv file and sets 'var' as the row index\n",
    "    #Setting 'var' as the row index makes the table searchable by variable\n",
    "    \n",
    "    domain = var_table.at[var,'domain'] #Finds the corresponding domain for that variable\n",
    "    project = var_table.at[var,'project'] #Ditto for project\n",
    "    return domain, project"
   ]
  },
  {
   "cell_type": "code",
   "execution_count": 3,
   "id": "d8331212-f37d-4e42-9172-1b8701709707",
   "metadata": {},
   "outputs": [
    {
     "data": {
      "text/plain": [
       "('Amon', 'GeoMIP')"
      ]
     },
     "execution_count": 3,
     "metadata": {},
     "output_type": "execute_result"
    }
   ],
   "source": [
    "define_parameters('pr')"
   ]
  },
  {
   "cell_type": "code",
   "execution_count": 4,
   "id": "e57aa085-1591-4031-9652-9fbcc949d02a",
   "metadata": {},
   "outputs": [
    {
     "data": {
      "text/plain": [
       "('Amon', 'GeoMIP')"
      ]
     },
     "execution_count": 4,
     "metadata": {},
     "output_type": "execute_result"
    }
   ],
   "source": [
    "define_parameters('evspsbl')"
   ]
  },
  {
   "cell_type": "code",
   "execution_count": 14,
   "id": "18bfe868-949a-4d16-8859-bca33e695787",
   "metadata": {},
   "outputs": [],
   "source": [
    "var_list = pd.read_csv('CMIP6_variables.csv', usecols = ['var'])"
   ]
  },
  {
   "cell_type": "code",
   "execution_count": 20,
   "id": "37a592b2-fd89-465c-b733-366c1c07a9fe",
   "metadata": {},
   "outputs": [],
   "source": [
    "var_table = pd.read_csv('CMIP6_variables.csv')\n",
    "var_list = var_table['var'].tolist()"
   ]
  },
  {
   "cell_type": "code",
   "execution_count": 21,
   "id": "0cda1bf9-7720-487f-b790-1342cb09a71b",
   "metadata": {},
   "outputs": [
    {
     "data": {
      "text/plain": [
       "'tpf'"
      ]
     },
     "execution_count": 21,
     "metadata": {},
     "output_type": "execute_result"
    }
   ],
   "source": [
    "var_list[23]"
   ]
  },
  {
   "cell_type": "code",
   "execution_count": null,
   "id": "5455d152-4ae3-493e-bd72-79a763983600",
   "metadata": {},
   "outputs": [],
   "source": []
  }
 ],
 "metadata": {
  "kernelspec": {
   "display_name": "Python 3 + Jaspy",
   "language": "python",
   "name": "jaspy"
  },
  "language_info": {
   "codemirror_mode": {
    "name": "ipython",
    "version": 3
   },
   "file_extension": ".py",
   "mimetype": "text/x-python",
   "name": "python",
   "nbconvert_exporter": "python",
   "pygments_lexer": "ipython3",
   "version": "3.7.1"
  }
 },
 "nbformat": 4,
 "nbformat_minor": 5
}
