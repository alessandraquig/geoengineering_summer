{
 "cells": [
  {
   "cell_type": "code",
   "execution_count": 1,
   "metadata": {},
   "outputs": [
    {
     "ename": "NameError",
     "evalue": "name 'ttest_pvalue' is not defined",
     "output_type": "error",
     "traceback": [
      "\u001b[0;31m---------------------------------------------------------------------------\u001b[0m",
      "\u001b[0;31mNameError\u001b[0m                                 Traceback (most recent call last)",
      "\u001b[0;32m<ipython-input-1-0f4044049312>\u001b[0m in \u001b[0;36m<module>\u001b[0;34m\u001b[0m\n\u001b[1;32m      5\u001b[0m \u001b[0mdunno\u001b[0m \u001b[0;34m=\u001b[0m \u001b[0;36m0\u001b[0m\u001b[0;34m\u001b[0m\u001b[0;34m\u001b[0m\u001b[0m\n\u001b[1;32m      6\u001b[0m \u001b[0;34m\u001b[0m\u001b[0m\n\u001b[0;32m----> 7\u001b[0;31m \u001b[0;32mfor\u001b[0m \u001b[0mi\u001b[0m \u001b[0;32min\u001b[0m \u001b[0mrange\u001b[0m\u001b[0;34m(\u001b[0m\u001b[0;36m0\u001b[0m\u001b[0;34m,\u001b[0m\u001b[0mlen\u001b[0m\u001b[0;34m(\u001b[0m\u001b[0mttest_pvalue\u001b[0m\u001b[0;34m[\u001b[0m\u001b[0;34m:\u001b[0m\u001b[0;34m,\u001b[0m\u001b[0;36m0\u001b[0m\u001b[0;34m]\u001b[0m\u001b[0;34m)\u001b[0m\u001b[0;34m-\u001b[0m\u001b[0;36m1\u001b[0m\u001b[0;34m)\u001b[0m\u001b[0;34m:\u001b[0m \u001b[0;31m#longitude\u001b[0m\u001b[0;34m\u001b[0m\u001b[0;34m\u001b[0m\u001b[0m\n\u001b[0m\u001b[1;32m      8\u001b[0m     \u001b[0;32mfor\u001b[0m \u001b[0mj\u001b[0m \u001b[0;32min\u001b[0m \u001b[0mrange\u001b[0m\u001b[0;34m(\u001b[0m\u001b[0;36m0\u001b[0m\u001b[0;34m,\u001b[0m\u001b[0mlen\u001b[0m\u001b[0;34m(\u001b[0m\u001b[0mttest_pvalue\u001b[0m\u001b[0;34m[\u001b[0m\u001b[0;36m0\u001b[0m\u001b[0;34m,\u001b[0m\u001b[0;34m:\u001b[0m\u001b[0;34m]\u001b[0m\u001b[0;34m)\u001b[0m\u001b[0;34m-\u001b[0m\u001b[0;36m1\u001b[0m\u001b[0;34m)\u001b[0m\u001b[0;34m:\u001b[0m \u001b[0;31m#latitude\u001b[0m\u001b[0;34m\u001b[0m\u001b[0;34m\u001b[0m\u001b[0m\n\u001b[1;32m      9\u001b[0m         \u001b[0;31m#print(ttest_pvalue[i,j])\u001b[0m\u001b[0;34m\u001b[0m\u001b[0;34m\u001b[0m\u001b[0;34m\u001b[0m\u001b[0m\n",
      "\u001b[0;31mNameError\u001b[0m: name 'ttest_pvalue' is not defined"
     ]
    }
   ],
   "source": [
    "sig_mod = 0\n",
    "insig_mod = 0\n",
    "sig_exac = 0\n",
    "insig_exac = 0\n",
    "dunno = 0\n",
    "\n",
    "for i in range(0,len(ttest_pvalue[:,0])-1): #longitude\n",
    "    for j in range(0,len(ttest_pvalue[0,:])-1): #latitude\n",
    "        #print(ttest_pvalue[i,j])\n",
    "        if land_moderated[i,j]-land_exacerbated[i,j] > 0 and ttest_pvalue[i,j] < 0.05:\n",
    "            sig_mod = sig_mod + land_moderated[i,j]\n",
    "            insig_exac = insig_exac + land_exacerbated[i,j]\n",
    "        elif land_moderated[i,j]-land_exacerbated[i,j] > 0 and ttest_pvalue[i,j] >= 0.05:\n",
    "            insig_mod = insig_mod + land_moderated[i,j]\n",
    "            insig_exac = insig_exac + land_exacerbated[i,j]\n",
    "        elif land_moderated[i,j]-land_exacerbated[i,j] < 0 and ttest_pvalue[i,j] < 0.05:\n",
    "            sig_exac = sig_exac + land_exacerbated[i,j]\n",
    "            insig_mod = insig_mod + land_moderated[i,j]\n",
    "        elif land_moderated[i,j]-land_exacerbated[i,j] < 0 and ttest_pvalue[i,j] <= 0.05:\n",
    "            insig_exac = insig_exac + land_exacerbated[i,j]\n",
    "            insig_mod = insig_mod + land_moderated[i,j]"
   ]
  },
  {
   "cell_type": "code",
   "execution_count": null,
   "metadata": {},
   "outputs": [],
   "source": []
  },
  {
   "cell_type": "code",
   "execution_count": 13,
   "metadata": {},
   "outputs": [
    {
     "name": "stdout",
     "output_type": "stream",
     "text": [
      "loading existing files tas_Amon_UKESM1-0-LL_G6sulfur_ens-mean_gn_2070-01-01_2100-01-01 ANN\n",
      "loading existing files tas_Amon_UKESM1-0-LL_ssp585_ens-mean_gn_2070-01-01_2100-01-01 ANN\n",
      "loading existing files tas_Amon_UKESM1-0-LL_historical_ens-mean_gn_1960-01-01_1990-01-01 ANN\n"
     ]
    }
   ],
   "source": [
    "# Use the get_fixed() function to return the gridcell area and land fraction for the model we want.\n",
    "ds_area, ds_land = get_fixed('MOHC','UKESM1-0-LL','r1i1p1f2') \n",
    "# NOTE - to do this for another model, you'll need to look up the run number used in the piControl experiment which stores the fx variables.\n",
    "# search on CEDA archive for \"areacella\" and \"<MODEL NAME>\" and it should show you.\n",
    "\n",
    "# Let's define a data array for the area weight of the gridcells\n",
    "da_weight = ds_area['areacella'] / ds_area['areacella'].sum()\n",
    "da_weight = da_weight.rename(new_name_or_name_dict='area_weight')\n",
    "# land area = gricell area * land fraction ([0-100] * 0.01)\n",
    "da_land_area = ds_area['areacella'] * ds_land['sftlf'] * 0.01 \n",
    "# Now let's create a land area weighting\n",
    "da_land_weight = da_land_area / da_land_area.sum()\n",
    "\n",
    "data_dir='/home/users/quigley/Projects/geoengineering_summer'\n",
    "\n",
    "# Set variables that are common to all experiments.\n",
    "model='UKESM1-0-LL'\n",
    "centre='MOHC' \n",
    "    \n",
    "if var == \"evspsblpot\":\n",
    "    domain = \"Emon\"\n",
    "else:\n",
    "    domain='Amon' # pr is an Amon variable.\n",
    "grid='gn'\n",
    "season='ANN'\n",
    "\n",
    "# specify a list of runs\n",
    "runs=['r1i1p1f2','r4i1p1f2','r8i1p1f2']\n",
    "\n",
    "# Load G6sulfur ensemble-mean datasets\n",
    "exp='G6sulfur'\n",
    "project='GeoMIP'\n",
    "dates=['2070-01-01','2100-01-01']\n",
    "ds_G6sulfur_mean, ds_G6sulfur_std = get_ens_seasonal_mean_std(season, dates, data_dir, model, centre, var, domain, exp, project, runs, grid, time_files=1)# setting time files to zero.\n",
    "\n",
    "# Load ssp585 ensemble-mean datasets\n",
    "project='ScenarioMIP'\n",
    "exp='ssp585'\n",
    "dates=['2070-01-01','2100-01-01']\n",
    "ds_ssp585_mean, ds_ssp585_std = get_ens_seasonal_mean_std(season, dates, data_dir, model, centre, var, domain, exp, project, runs, grid, time_files=1)# setting time files to zero.\n",
    "\n",
    "# Load ssp585 ensemble-mean datasets\n",
    "project='CMIP'\n",
    "exp='historical'\n",
    "dates=['1960-01-01','1990-01-01']\n",
    "ds_historical_mean, ds_historical_std = get_ens_seasonal_mean_std(season, dates, data_dir, model, centre, var, domain, exp, project, runs, grid, time_files=1)# setting time files to zero.\n",
    " \n",
    "# Call my better_worse_off function, passing in the data_arrays for the variable of interest rather than the full datasets.\n",
    "better, worse, dunno = better_worse_off(ds_G6sulfur_mean[var], ds_G6sulfur_std[var], ds_ssp585_mean[var], ds_ssp585_std[var], ds_historical_mean[var], ds_historical_std[var], 90, 0.05)\n",
    "\n",
    "#Calculating the moderated/exacerbated arrays before determining significance\n",
    "moderated = (100*(better + 0) * da_weight).values\n",
    "exacerbated = (100*(worse + 0) * da_weight).values\n",
    "land_moderated = (100*(better + 0) * da_land_weight).values\n",
    "land_exacerbated = (100*(worse + 0) * da_land_weight).values"
   ]
  },
  {
   "cell_type": "code",
   "execution_count": 32,
   "metadata": {},
   "outputs": [],
   "source": [
    "def calculate(var, metric):\n",
    "    control_mean=global_mean(var,'historical',['1960-01-01','1990-01-01'],'CMIP').values\n",
    "    geo_mean=global_mean(var,'G6sulfur',['2070-01-01','2100-01-01'],'GeoMIP').values  \n",
    "    solar_mean=global_mean(var,'G6solar',['2070-01-01','2100-01-01'],'GeoMIP').values\n",
    "    sulfur_mean=global_mean(var,'G6sulfur',['2070-01-01','2100-01-01'],'GeoMIP').values\n",
    "    warming_mean=global_mean(var,\"ssp585\",['2070-01-01','2100-01-01'],\"ScenarioMIP\").values\n",
    "    \n",
    "    geo_anom = geo_mean - control_mean\n",
    "    sulfur_solar_anom = sulfur_mean - solar_mean\n",
    "    geo_warming_anom = geo_mean - warming_mean\n",
    "    warming_anom = warming_mean - control_mean\n",
    "    \n",
    "    if metric == \"global_mean_anomaly_control\":\n",
    "        return geo_anom\n",
    "    elif metric == \"global_mean_anomaly_solar\":\n",
    "        return sulfur_solar_anom\n",
    "    elif metric == \"global_mean_anomaly_warming\":\n",
    "        return geo_warming_anom\n",
    "    elif metric == \"moderated_exacerbated\":\n",
    "        if geo_anom < warming_anom:\n",
    "            return \"moderated\"\n",
    "        elif warming_anom < geo_anom:\n",
    "            return \"exacerbated\"\n",
    "        else:\n",
    "            return \"N/A\"\n",
    "    elif metric == \"global_moderated\":\n",
    "        global_moderated, global_exacerbated, land_moderated, land_exacerbated = frac_moderated_exacerbated(var)\n",
    "        return global_moderated\n",
    "    elif metric == \"global_exacerbated\":\n",
    "        global_moderated, global_exacerbated, land_moderated, land_exacerbated = frac_moderated_exacerbated(var)\n",
    "        return global_exacerbated\n",
    "    elif metric == \"land_moderated\":\n",
    "        global_moderated, global_exacerbated, land_moderated, land_exacerbated = frac_moderated_exacerbated(var)\n",
    "        return land_moderated\n",
    "    elif metric == \"land_exacerbated\":\n",
    "        global_moderated, global_exacerbated, land_moderated, land_exacerbated = frac_moderated_exacerbated(var)\n",
    "        return land_exacerbated\n",
    "    else:\n",
    "        return 0"
   ]
  }
 ],
 "metadata": {
  "kernelspec": {
   "display_name": "Python 3 + Jaspy",
   "language": "python",
   "name": "jaspy"
  },
  "language_info": {
   "codemirror_mode": {
    "name": "ipython",
    "version": 3
   },
   "file_extension": ".py",
   "mimetype": "text/x-python",
   "name": "python",
   "nbconvert_exporter": "python",
   "pygments_lexer": "ipython3",
   "version": "3.7.1"
  }
 },
 "nbformat": 4,
 "nbformat_minor": 4
}
