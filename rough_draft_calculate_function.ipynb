{
 "cells": [
  {
   "cell_type": "code",
   "execution_count": null,
   "metadata": {},
   "outputs": [],
   "source": [
    "def calculate_by_metric(var, metric):\n",
    "    if metric == \"root_mean_sq_diff\":\n",
    "        return null\n",
    "    elif metric == \"global_mean_anomaly_control\":\n",
    "        exp='G6sulfur'\n",
    "        project='GeoMIP'\n",
    "        after=['2070-01-01','2100-01-01'] #with geoengineering\n",
    "        before=['1960-01-01','1990-01-01'] #control (pre-geoengineering/warming)\n",
    "        control_mean=global_mean(var,exp,before,project)\n",
    "        geo_mean=global_mean(var,exp,after,project)\n",
    "        return geo_mean - control_mean   \n",
    "    elif metric == \"global_mean_anomaly_solar\":\n",
    "        dates=['2070-01-01','2100-01-01']\n",
    "        sulfur='G6sulfur'\n",
    "        solar='G6solar'\n",
    "        project='GeoMIP'\n",
    "        solar_mean=global_mean(var,solar,dates,project)\n",
    "        sulfur_mean=global_mean(var,sulfur,dates,project)\n",
    "        return sulfur_mean - solar_mean\n",
    "    elif metric == \"global_mean_anomaly_warming\":\n",
    "        geo_exp='G6sulfur'\n",
    "        warming_exp=\"rcp45-cmip5\"\n",
    "        geo_project='GeoMIP'\n",
    "        warming_project=\"ScenarioMIP\"\n",
    "        dates=['2070-01-01','2100-01-01']\n",
    "        warming_mean=global_mean(var,warming_exp,dates,warming_project)\n",
    "        geo_mean=global_mean(var,geo_exp,after,geo_project)\n",
    "        return geo_mean - warming_mean\n",
    "    elif metric == \"moderated_exacerbated\":\n",
    "        geo_exp='G6sulfur'\n",
    "        warming_exp=\"rcp45-cmip5\"\n",
    "        geo_project='GeoMIP'\n",
    "        warming_project=\"ScenarioMIP\"\n",
    "        dates=['2070-01-01','2100-01-01']\n",
    "        warming_mean=global_mean(var,warming_exp,dates,warming_project)\n",
    "        geo_mean=global_mean(var,geo_exp,after,geo_project)\n",
    "        before=['1960-01-01','1990-01-01'] #control (pre-geoengineering/warming)\n",
    "        control_mean=global_mean(var,geo_exp,before,geo_project)\n",
    "        geo_anom = geo_mean - control_mean\n",
    "        warming_anom = warming_mean - control_mean\n",
    "        if geo_anom < warming_anom:\n",
    "            return \"moderated\"\n",
    "        elif warming_anom < geo_anom:\n",
    "            return \"exacerbated\"\n",
    "        else:\n",
    "            return \"N/A\"\n",
    "    else:\n",
    "        return null"
   ]
  },
  {
   "cell_type": "code",
   "execution_count": 1,
   "metadata": {},
   "outputs": [],
   "source": [
    "#Only works for one run at a time. Multi-run code is in quigley_code.ipynb\n",
    "\n",
    "def global_mean(var,exp,dates,project):\n",
    "    data_dir='/home/users/quigley/Projects/geoengineering_summer' #Changed from Pete's directory\n",
    "    model='UKESM1-0-LL'\n",
    "    centre='MOHC'\n",
    "    domain='Amon'\n",
    "    run='r1i1p1f2'\n",
    "    grid='gn'\n",
    "    season='ANN'\n",
    "    time_files=1\n",
    "    \n",
    "    # Use the get_fixed() function to return the gridcell area and land fraction for the model we want.\n",
    "    ds_area, ds_land = get_fixed('MOHC','UKESM1-0-LL','r1i1p1f2') \n",
    "\n",
    "    # Let's define a data array for the area weight of the gridcells\n",
    "    da_weight = ds_area['areacella'] / ds_area['areacella'].sum()\n",
    "    da_weight = da_weight.rename(new_name_or_name_dict='area_weight')\n",
    "\n",
    "    # load the arguments into a list then... \n",
    "    args=[season,dates,data_dir,model,centre,var,domain,exp,project,run,grid,time_files]\n",
    "    ds_mean, ds_std = get_seasonal_mean_std(*args) # ... unpack them into the function.\n",
    "    \n",
    "    # multiply each temperature value with its corresponding fraction of total area, then sum to find the global mean.\n",
    "    return (ds_mean[var]*da_weight).sum() - 273.15 # convert from K to C."
   ]
  },
  {
   "cell_type": "code",
   "execution_count": null,
   "metadata": {},
   "outputs": [],
   "source": []
  },
  {
   "cell_type": "code",
   "execution_count": null,
   "metadata": {},
   "outputs": [],
   "source": []
  }
 ],
 "metadata": {
  "kernelspec": {
   "display_name": "Python 3 + Jaspy",
   "language": "python",
   "name": "jaspy"
  },
  "language_info": {
   "codemirror_mode": {
    "name": "ipython",
    "version": 3
   },
   "file_extension": ".py",
   "mimetype": "text/x-python",
   "name": "python",
   "nbconvert_exporter": "python",
   "pygments_lexer": "ipython3",
   "version": "3.7.1"
  }
 },
 "nbformat": 4,
 "nbformat_minor": 4
}
